{
 "cells": [
  {
   "cell_type": "code",
   "execution_count": 1,
   "outputs": [],
   "source": [
    "#@title Import modules\n",
    "import numpy as np\n",
    "import pandas as pd\n",
    "import tensorflow as tf\n",
    "from matplotlib import pyplot as plt\n",
    "\n",
    "pd.options.display.max_rows = 10\n",
    "pd.options.display.float_format = \"{:.1f}\".format"
   ],
   "metadata": {
    "collapsed": false,
    "ExecuteTime": {
     "end_time": "2023-08-31T20:10:14.125124100Z",
     "start_time": "2023-08-31T20:10:07.005048500Z"
    }
   },
   "id": "f47a8c02c7f94783"
  },
  {
   "cell_type": "code",
   "execution_count": 2,
   "outputs": [],
   "source": [
    "train_df = pd.read_csv(\"https://download.mlcc.google.com/mledu-datasets/california_housing_train.csv\")\n",
    "test_df = pd.read_csv(\"https://download.mlcc.google.com/mledu-datasets/california_housing_test.csv\")"
   ],
   "metadata": {
    "collapsed": false,
    "ExecuteTime": {
     "end_time": "2023-08-31T20:10:19.300345300Z",
     "start_time": "2023-08-31T20:10:17.308866500Z"
    }
   },
   "id": "351e89deb5e70bb7"
  },
  {
   "cell_type": "code",
   "execution_count": 3,
   "outputs": [],
   "source": [
    "scale_factor = 1000.0\n",
    "\n",
    "# Scale the training set's label.\n",
    "train_df[\"median_house_value\"] /= scale_factor \n",
    "\n",
    "# Scale the test set's label\n",
    "test_df[\"median_house_value\"] /= scale_factor"
   ],
   "metadata": {
    "collapsed": false,
    "ExecuteTime": {
     "end_time": "2023-08-31T20:10:40.601654700Z",
     "start_time": "2023-08-31T20:10:40.581078500Z"
    }
   },
   "id": "aa14ef07267ac153"
  },
  {
   "cell_type": "code",
   "execution_count": 7,
   "outputs": [
    {
     "name": "stdout",
     "output_type": "stream",
     "text": [
      "Defined the build_model and train_model functions.\n"
     ]
    }
   ],
   "source": [
    "#@title Define the functions that build and train a model\n",
    "def build_model(my_learning_rate):\n",
    "  \"\"\"Create and compile a simple linear regression model.\"\"\"\n",
    "  # Most simple tf.keras models are sequential.\n",
    "  model = tf.keras.models.Sequential()\n",
    "\n",
    "  # Add one linear layer to the model to yield a simple linear regressor.\n",
    "  model.add(tf.keras.layers.Dense(units=1, input_shape=(1,)))\n",
    "\n",
    "  # Compile the model topography into code that TensorFlow can efficiently\n",
    "  # execute. Configure training to minimize the model's mean squared error. \n",
    "  model.compile(optimizer=tf.keras.optimizers.RMSprop(learning_rate=my_learning_rate),\n",
    "                loss=\"mean_squared_error\",\n",
    "                metrics=[tf.keras.metrics.RootMeanSquaredError()])\n",
    "\n",
    "  return model               \n",
    "\n",
    "\n",
    "def train_model(model, df, feature, label, my_epochs, \n",
    "                my_batch_size=None, my_validation_split=0.1):\n",
    "  \"\"\"Feed a dataset into the model in order to train it.\"\"\"\n",
    "\n",
    "  history = model.fit(x=df[feature],\n",
    "                      y=df[label],\n",
    "                      batch_size=my_batch_size,\n",
    "                      epochs=my_epochs,\n",
    "                      validation_split=my_validation_split)\n",
    "\n",
    "  # Gather the model's trained weight and bias.\n",
    "  trained_weight = model.get_weights()[0]\n",
    "  trained_bias = model.get_weights()[1]\n",
    "\n",
    "  # The list of epochs is stored separately from the \n",
    "  # rest of history.\n",
    "  epochs = history.epoch\n",
    "  \n",
    "  # Isolate the root mean squared error for each epoch.\n",
    "  hist = pd.DataFrame(history.history)\n",
    "  rmse = hist[\"root_mean_squared_error\"]\n",
    "\n",
    "  return epochs, rmse, history.history   \n",
    "\n",
    "print(\"Defined the build_model and train_model functions.\")"
   ],
   "metadata": {
    "collapsed": false,
    "ExecuteTime": {
     "end_time": "2023-08-31T20:12:02.448721300Z",
     "start_time": "2023-08-31T20:12:02.435204300Z"
    }
   },
   "id": "4535ad24f97d6da4"
  },
  {
   "cell_type": "code",
   "execution_count": 5,
   "outputs": [
    {
     "name": "stdout",
     "output_type": "stream",
     "text": [
      "Defined the plot_the_loss_curve function.\n"
     ]
    }
   ],
   "source": [
    "#@title Define the plotting function\n",
    "\n",
    "def plot_the_loss_curve(epochs, mae_training, mae_validation):\n",
    "  \"\"\"Plot a curve of loss vs. epoch.\"\"\"\n",
    "\n",
    "  plt.figure()\n",
    "  plt.xlabel(\"Epoch\")\n",
    "  plt.ylabel(\"Root Mean Squared Error\")\n",
    "\n",
    "  plt.plot(epochs[1:], mae_training[1:], label=\"Training Loss\")\n",
    "  plt.plot(epochs[1:], mae_validation[1:], label=\"Validation Loss\")\n",
    "  plt.legend()\n",
    "  \n",
    "  # We're not going to plot the first epoch, since the loss on the first epoch\n",
    "  # is often substantially greater than the loss for other epochs.\n",
    "  merged_mae_lists = mae_training[1:] + mae_validation[1:]\n",
    "  highest_loss = max(merged_mae_lists)\n",
    "  lowest_loss = min(merged_mae_lists)\n",
    "  delta = highest_loss - lowest_loss\n",
    "  print(delta)\n",
    "\n",
    "  top_of_y_axis = highest_loss + (delta * 0.05)\n",
    "  bottom_of_y_axis = lowest_loss - (delta * 0.05)\n",
    "   \n",
    "  plt.ylim([bottom_of_y_axis, top_of_y_axis])\n",
    "  plt.show()  \n",
    "\n",
    "print(\"Defined the plot_the_loss_curve function.\")"
   ],
   "metadata": {
    "collapsed": false,
    "ExecuteTime": {
     "end_time": "2023-08-31T20:11:07.673400700Z",
     "start_time": "2023-08-31T20:11:07.626000500Z"
    }
   },
   "id": "34783054b71def0e"
  },
  {
   "cell_type": "code",
   "execution_count": 8,
   "outputs": [
    {
     "name": "stdout",
     "output_type": "stream",
     "text": [
      "Epoch 1/30\n",
      "136/136 [==============================] - 2s 4ms/step - loss: 37261.4570 - root_mean_squared_error: 193.0323 - val_loss: 45159.4531 - val_root_mean_squared_error: 212.5075\n",
      "Epoch 2/30\n",
      "136/136 [==============================] - 0s 2ms/step - loss: 21167.9961 - root_mean_squared_error: 145.4922 - val_loss: 26037.4570 - val_root_mean_squared_error: 161.3613\n",
      "Epoch 3/30\n",
      "136/136 [==============================] - 0s 2ms/step - loss: 11202.9375 - root_mean_squared_error: 105.8439 - val_loss: 14159.1455 - val_root_mean_squared_error: 118.9922\n",
      "Epoch 4/30\n",
      "136/136 [==============================] - 0s 2ms/step - loss: 6989.3442 - root_mean_squared_error: 83.6023 - val_loss: 9522.7764 - val_root_mean_squared_error: 97.5847\n",
      "Epoch 5/30\n",
      "136/136 [==============================] - 0s 2ms/step - loss: 6514.2051 - root_mean_squared_error: 80.7106 - val_loss: 9270.2910 - val_root_mean_squared_error: 96.2823\n",
      "Epoch 6/30\n",
      "136/136 [==============================] - 0s 2ms/step - loss: 6514.0796 - root_mean_squared_error: 80.7098 - val_loss: 9268.1445 - val_root_mean_squared_error: 96.2712\n",
      "Epoch 7/30\n",
      "136/136 [==============================] - 0s 2ms/step - loss: 6514.1807 - root_mean_squared_error: 80.7105 - val_loss: 9258.2197 - val_root_mean_squared_error: 96.2196\n",
      "Epoch 8/30\n",
      "136/136 [==============================] - 0s 2ms/step - loss: 6513.7324 - root_mean_squared_error: 80.7077 - val_loss: 9322.6562 - val_root_mean_squared_error: 96.5539\n",
      "Epoch 9/30\n",
      "136/136 [==============================] - 0s 2ms/step - loss: 6513.8047 - root_mean_squared_error: 80.7081 - val_loss: 9167.5820 - val_root_mean_squared_error: 95.7475\n",
      "Epoch 10/30\n",
      "136/136 [==============================] - 0s 2ms/step - loss: 6513.1138 - root_mean_squared_error: 80.7039 - val_loss: 9172.6475 - val_root_mean_squared_error: 95.7739\n",
      "Epoch 11/30\n",
      "136/136 [==============================] - 0s 2ms/step - loss: 6513.3594 - root_mean_squared_error: 80.7054 - val_loss: 9166.5273 - val_root_mean_squared_error: 95.7420\n",
      "Epoch 12/30\n",
      "136/136 [==============================] - 0s 2ms/step - loss: 6513.0508 - root_mean_squared_error: 80.7035 - val_loss: 9198.5615 - val_root_mean_squared_error: 95.9091\n",
      "Epoch 13/30\n",
      "136/136 [==============================] - 0s 2ms/step - loss: 6513.7261 - root_mean_squared_error: 80.7077 - val_loss: 9322.8057 - val_root_mean_squared_error: 96.5547\n",
      "Epoch 14/30\n",
      "136/136 [==============================] - 0s 2ms/step - loss: 6513.7871 - root_mean_squared_error: 80.7080 - val_loss: 9253.2188 - val_root_mean_squared_error: 96.1936\n",
      "Epoch 15/30\n",
      "136/136 [==============================] - 0s 2ms/step - loss: 6512.1699 - root_mean_squared_error: 80.6980 - val_loss: 9105.4482 - val_root_mean_squared_error: 95.4225\n",
      "Epoch 16/30\n",
      "136/136 [==============================] - 0s 2ms/step - loss: 6514.3804 - root_mean_squared_error: 80.7117 - val_loss: 9308.3633 - val_root_mean_squared_error: 96.4799\n",
      "Epoch 17/30\n",
      "136/136 [==============================] - 0s 2ms/step - loss: 6513.6147 - root_mean_squared_error: 80.7070 - val_loss: 9251.9209 - val_root_mean_squared_error: 96.1869\n",
      "Epoch 18/30\n",
      "136/136 [==============================] - 0s 2ms/step - loss: 6514.3765 - root_mean_squared_error: 80.7117 - val_loss: 9249.9570 - val_root_mean_squared_error: 96.1767\n",
      "Epoch 19/30\n",
      "136/136 [==============================] - 0s 2ms/step - loss: 6511.4453 - root_mean_squared_error: 80.6935 - val_loss: 9384.7920 - val_root_mean_squared_error: 96.8751\n",
      "Epoch 20/30\n",
      "136/136 [==============================] - 0s 2ms/step - loss: 6510.2051 - root_mean_squared_error: 80.6858 - val_loss: 9183.3633 - val_root_mean_squared_error: 95.8299\n",
      "Epoch 21/30\n",
      "136/136 [==============================] - 0s 2ms/step - loss: 6512.9062 - root_mean_squared_error: 80.7026 - val_loss: 9239.7148 - val_root_mean_squared_error: 96.1234\n",
      "Epoch 22/30\n",
      "136/136 [==============================] - 0s 2ms/step - loss: 6513.0728 - root_mean_squared_error: 80.7036 - val_loss: 9341.4600 - val_root_mean_squared_error: 96.6512\n",
      "Epoch 23/30\n",
      "136/136 [==============================] - 0s 2ms/step - loss: 6513.0166 - root_mean_squared_error: 80.7033 - val_loss: 9312.6572 - val_root_mean_squared_error: 96.5021\n",
      "Epoch 24/30\n",
      "136/136 [==============================] - 0s 2ms/step - loss: 6513.2788 - root_mean_squared_error: 80.7049 - val_loss: 9233.9785 - val_root_mean_squared_error: 96.0936\n",
      "Epoch 25/30\n",
      "136/136 [==============================] - 0s 2ms/step - loss: 6513.1401 - root_mean_squared_error: 80.7040 - val_loss: 9326.8867 - val_root_mean_squared_error: 96.5758\n",
      "Epoch 26/30\n",
      "136/136 [==============================] - 0s 2ms/step - loss: 6513.5942 - root_mean_squared_error: 80.7068 - val_loss: 9193.1758 - val_root_mean_squared_error: 95.8811\n",
      "Epoch 27/30\n",
      "136/136 [==============================] - 0s 2ms/step - loss: 6513.7759 - root_mean_squared_error: 80.7080 - val_loss: 9277.7090 - val_root_mean_squared_error: 96.3209\n",
      "Epoch 28/30\n",
      "136/136 [==============================] - 0s 2ms/step - loss: 6514.0913 - root_mean_squared_error: 80.7099 - val_loss: 9314.1895 - val_root_mean_squared_error: 96.5100\n",
      "Epoch 29/30\n",
      "136/136 [==============================] - 0s 2ms/step - loss: 6512.6001 - root_mean_squared_error: 80.7007 - val_loss: 9148.9619 - val_root_mean_squared_error: 95.6502\n",
      "Epoch 30/30\n",
      "136/136 [==============================] - 0s 2ms/step - loss: 6513.8447 - root_mean_squared_error: 80.7084 - val_loss: 9349.6943 - val_root_mean_squared_error: 96.6938\n",
      "80.67542266845703\n"
     ]
    },
    {
     "data": {
      "text/plain": "<Figure size 640x480 with 1 Axes>",
      "image/png": "[encoded data removed]"
     },
     "metadata": {},
     "output_type": "display_data"
    }
   ],
   "source": [
    "# The following variables are the hyperparameters.\n",
    "learning_rate = 0.08\n",
    "epochs = 30\n",
    "batch_size = 100\n",
    "\n",
    "# Split the original training set into a reduced training set and a\n",
    "# validation set. \n",
    "validation_split = 0.2\n",
    "\n",
    "# Identify the feature and the label.\n",
    "my_feature = \"median_income\"    # the median income on a specific city block.\n",
    "my_label = \"median_house_value\" # the median house value on a specific city block.\n",
    "# That is, you're going to create a model that predicts house value based \n",
    "# solely on the neighborhood's median income.  \n",
    "\n",
    "# Invoke the functions to build and train the model.\n",
    "my_model = build_model(learning_rate)\n",
    "epochs, rmse, history = train_model(my_model, train_df, my_feature, \n",
    "                                    my_label, epochs, batch_size, \n",
    "                                    validation_split)\n",
    "\n",
    "plot_the_loss_curve(epochs, history[\"root_mean_squared_error\"], \n",
    "                    history[\"val_root_mean_squared_error\"])"
   ],
   "metadata": {
    "collapsed": false,
    "ExecuteTime": {
     "end_time": "2023-08-31T20:12:17.183892300Z",
     "start_time": "2023-08-31T20:12:06.518200300Z"
    }
   },
   "id": "5c6e52ec4c7bd292"
  },
  {
   "cell_type": "code",
   "execution_count": 9,
   "outputs": [
    {
     "name": "stdout",
     "output_type": "stream",
     "text": [
      "Epoch 1/70\n",
      "136/136 [==============================] - 1s 3ms/step - loss: 42947.8164 - root_mean_squared_error: 207.2386 - val_loss: 33335.1680 - val_root_mean_squared_error: 182.5792\n",
      "Epoch 2/70\n",
      "136/136 [==============================] - 0s 2ms/step - loss: 25042.5078 - root_mean_squared_error: 158.2482 - val_loss: 18575.6680 - val_root_mean_squared_error: 136.2926\n",
      "Epoch 3/70\n",
      "136/136 [==============================] - 0s 2ms/step - loss: 13393.6309 - root_mean_squared_error: 115.7309 - val_loss: 10033.3984 - val_root_mean_squared_error: 100.1668\n",
      "Epoch 4/70\n",
      "136/136 [==============================] - 0s 2ms/step - loss: 7899.4385 - root_mean_squared_error: 88.8788 - val_loss: 7336.5610 - val_root_mean_squared_error: 85.6537\n",
      "Epoch 5/70\n",
      "136/136 [==============================] - 0s 2ms/step - loss: 6955.1460 - root_mean_squared_error: 83.3975 - val_loss: 7275.2881 - val_root_mean_squared_error: 85.2953\n",
      "Epoch 6/70\n",
      "136/136 [==============================] - 0s 2ms/step - loss: 6949.2241 - root_mean_squared_error: 83.3620 - val_loss: 7281.0190 - val_root_mean_squared_error: 85.3289\n",
      "Epoch 7/70\n",
      "136/136 [==============================] - 0s 2ms/step - loss: 6950.9219 - root_mean_squared_error: 83.3722 - val_loss: 7273.3755 - val_root_mean_squared_error: 85.2841\n",
      "Epoch 8/70\n",
      "136/136 [==============================] - 0s 2ms/step - loss: 6949.4795 - root_mean_squared_error: 83.3635 - val_loss: 7275.8325 - val_root_mean_squared_error: 85.2985\n",
      "Epoch 9/70\n",
      "136/136 [==============================] - 0s 2ms/step - loss: 6950.0112 - root_mean_squared_error: 83.3667 - val_loss: 7273.5713 - val_root_mean_squared_error: 85.2852\n",
      "Epoch 10/70\n",
      "136/136 [==============================] - 0s 2ms/step - loss: 6950.2144 - root_mean_squared_error: 83.3679 - val_loss: 7273.3457 - val_root_mean_squared_error: 85.2839\n",
      "Epoch 11/70\n",
      "136/136 [==============================] - 0s 2ms/step - loss: 6949.4824 - root_mean_squared_error: 83.3636 - val_loss: 7273.1167 - val_root_mean_squared_error: 85.2826\n",
      "Epoch 12/70\n",
      "136/136 [==============================] - 0s 2ms/step - loss: 6950.1885 - root_mean_squared_error: 83.3678 - val_loss: 7273.6475 - val_root_mean_squared_error: 85.2857\n",
      "Epoch 13/70\n",
      "136/136 [==============================] - 0s 2ms/step - loss: 6950.3584 - root_mean_squared_error: 83.3688 - val_loss: 7274.3813 - val_root_mean_squared_error: 85.2900\n",
      "Epoch 14/70\n",
      "136/136 [==============================] - 0s 2ms/step - loss: 6950.0464 - root_mean_squared_error: 83.3669 - val_loss: 7273.1143 - val_root_mean_squared_error: 85.2826\n",
      "Epoch 15/70\n",
      "136/136 [==============================] - 0s 2ms/step - loss: 6949.2568 - root_mean_squared_error: 83.3622 - val_loss: 7273.6406 - val_root_mean_squared_error: 85.2856\n",
      "Epoch 16/70\n",
      "136/136 [==============================] - 0s 2ms/step - loss: 6950.2700 - root_mean_squared_error: 83.3683 - val_loss: 7273.1621 - val_root_mean_squared_error: 85.2828\n",
      "Epoch 17/70\n",
      "136/136 [==============================] - 0s 2ms/step - loss: 6949.0312 - root_mean_squared_error: 83.3608 - val_loss: 7276.7153 - val_root_mean_squared_error: 85.3037\n",
      "Epoch 18/70\n",
      "136/136 [==============================] - 0s 2ms/step - loss: 6948.5020 - root_mean_squared_error: 83.3577 - val_loss: 7274.0659 - val_root_mean_squared_error: 85.2881\n",
      "Epoch 19/70\n",
      "136/136 [==============================] - 0s 2ms/step - loss: 6949.8813 - root_mean_squared_error: 83.3659 - val_loss: 7273.4458 - val_root_mean_squared_error: 85.2845\n",
      "Epoch 20/70\n",
      "136/136 [==============================] - 0s 2ms/step - loss: 6949.9282 - root_mean_squared_error: 83.3662 - val_loss: 7273.3135 - val_root_mean_squared_error: 85.2837\n",
      "Epoch 21/70\n",
      "136/136 [==============================] - 0s 2ms/step - loss: 6950.4644 - root_mean_squared_error: 83.3694 - val_loss: 7273.4731 - val_root_mean_squared_error: 85.2847\n",
      "Epoch 22/70\n",
      "136/136 [==============================] - 0s 2ms/step - loss: 6949.0396 - root_mean_squared_error: 83.3609 - val_loss: 7273.8140 - val_root_mean_squared_error: 85.2867\n",
      "Epoch 23/70\n",
      "136/136 [==============================] - 0s 2ms/step - loss: 6949.7075 - root_mean_squared_error: 83.3649 - val_loss: 7273.1982 - val_root_mean_squared_error: 85.2831\n",
      "Epoch 24/70\n",
      "136/136 [==============================] - 0s 2ms/step - loss: 6949.6616 - root_mean_squared_error: 83.3646 - val_loss: 7273.1274 - val_root_mean_squared_error: 85.2826\n",
      "Epoch 25/70\n",
      "136/136 [==============================] - 0s 2ms/step - loss: 6950.0747 - root_mean_squared_error: 83.3671 - val_loss: 7275.0801 - val_root_mean_squared_error: 85.2941\n",
      "Epoch 26/70\n",
      "136/136 [==============================] - 0s 2ms/step - loss: 6947.9795 - root_mean_squared_error: 83.3545 - val_loss: 7281.4902 - val_root_mean_squared_error: 85.3316\n",
      "Epoch 27/70\n",
      "136/136 [==============================] - 0s 2ms/step - loss: 6951.1333 - root_mean_squared_error: 83.3735 - val_loss: 7273.1460 - val_root_mean_squared_error: 85.2827\n",
      "Epoch 28/70\n",
      "136/136 [==============================] - 0s 2ms/step - loss: 6950.1533 - root_mean_squared_error: 83.3676 - val_loss: 7276.7490 - val_root_mean_squared_error: 85.3039\n",
      "Epoch 29/70\n",
      "136/136 [==============================] - 0s 2ms/step - loss: 6950.2710 - root_mean_squared_error: 83.3683 - val_loss: 7273.0137 - val_root_mean_squared_error: 85.2820\n",
      "Epoch 30/70\n",
      "136/136 [==============================] - 0s 2ms/step - loss: 6950.7261 - root_mean_squared_error: 83.3710 - val_loss: 7273.0259 - val_root_mean_squared_error: 85.2820\n",
      "Epoch 31/70\n",
      "136/136 [==============================] - 0s 2ms/step - loss: 6948.3569 - root_mean_squared_error: 83.3568 - val_loss: 7278.5918 - val_root_mean_squared_error: 85.3147\n",
      "Epoch 32/70\n",
      "136/136 [==============================] - 0s 2ms/step - loss: 6951.7002 - root_mean_squared_error: 83.3769 - val_loss: 7273.5078 - val_root_mean_squared_error: 85.2849\n",
      "Epoch 33/70\n",
      "136/136 [==============================] - 0s 2ms/step - loss: 6950.3101 - root_mean_squared_error: 83.3685 - val_loss: 7274.1689 - val_root_mean_squared_error: 85.2887\n",
      "Epoch 34/70\n",
      "136/136 [==============================] - 0s 2ms/step - loss: 6949.8823 - root_mean_squared_error: 83.3660 - val_loss: 7275.5815 - val_root_mean_squared_error: 85.2970\n",
      "Epoch 35/70\n",
      "136/136 [==============================] - 0s 2ms/step - loss: 6948.8486 - root_mean_squared_error: 83.3597 - val_loss: 7273.4678 - val_root_mean_squared_error: 85.2846\n",
      "Epoch 36/70\n",
      "136/136 [==============================] - 0s 2ms/step - loss: 6950.2349 - root_mean_squared_error: 83.3681 - val_loss: 7274.3042 - val_root_mean_squared_error: 85.2895\n",
      "Epoch 37/70\n",
      "136/136 [==============================] - 0s 2ms/step - loss: 6950.5957 - root_mean_squared_error: 83.3702 - val_loss: 7273.4663 - val_root_mean_squared_error: 85.2846\n",
      "Epoch 38/70\n",
      "136/136 [==============================] - 0s 2ms/step - loss: 6949.4053 - root_mean_squared_error: 83.3631 - val_loss: 7276.7524 - val_root_mean_squared_error: 85.3039\n",
      "Epoch 39/70\n",
      "136/136 [==============================] - 0s 2ms/step - loss: 6949.7222 - root_mean_squared_error: 83.3650 - val_loss: 7273.9136 - val_root_mean_squared_error: 85.2872\n",
      "Epoch 40/70\n",
      "136/136 [==============================] - 0s 2ms/step - loss: 6949.9912 - root_mean_squared_error: 83.3666 - val_loss: 7274.8389 - val_root_mean_squared_error: 85.2927\n",
      "Epoch 41/70\n",
      "136/136 [==============================] - 0s 2ms/step - loss: 6949.7520 - root_mean_squared_error: 83.3652 - val_loss: 7273.4062 - val_root_mean_squared_error: 85.2843\n",
      "Epoch 42/70\n",
      "136/136 [==============================] - 0s 2ms/step - loss: 6951.0142 - root_mean_squared_error: 83.3727 - val_loss: 7273.1143 - val_root_mean_squared_error: 85.2826\n",
      "Epoch 43/70\n",
      "136/136 [==============================] - 0s 2ms/step - loss: 6949.9849 - root_mean_squared_error: 83.3666 - val_loss: 7273.6001 - val_root_mean_squared_error: 85.2854\n",
      "Epoch 44/70\n",
      "136/136 [==============================] - 0s 2ms/step - loss: 6949.9619 - root_mean_squared_error: 83.3664 - val_loss: 7273.1582 - val_root_mean_squared_error: 85.2828\n",
      "Epoch 45/70\n",
      "136/136 [==============================] - 0s 2ms/step - loss: 6949.6128 - root_mean_squared_error: 83.3643 - val_loss: 7274.6816 - val_root_mean_squared_error: 85.2917\n",
      "Epoch 46/70\n",
      "136/136 [==============================] - 0s 2ms/step - loss: 6949.6562 - root_mean_squared_error: 83.3646 - val_loss: 7274.4922 - val_root_mean_squared_error: 85.2906\n",
      "Epoch 47/70\n",
      "136/136 [==============================] - 0s 2ms/step - loss: 6950.0752 - root_mean_squared_error: 83.3671 - val_loss: 7275.7754 - val_root_mean_squared_error: 85.2982\n",
      "Epoch 48/70\n",
      "136/136 [==============================] - 0s 2ms/step - loss: 6950.5239 - root_mean_squared_error: 83.3698 - val_loss: 7273.3042 - val_root_mean_squared_error: 85.2837\n",
      "Epoch 49/70\n",
      "136/136 [==============================] - 0s 2ms/step - loss: 6949.8618 - root_mean_squared_error: 83.3658 - val_loss: 7274.3042 - val_root_mean_squared_error: 85.2895\n",
      "Epoch 50/70\n",
      "136/136 [==============================] - 0s 2ms/step - loss: 6949.7812 - root_mean_squared_error: 83.3653 - val_loss: 7273.2905 - val_root_mean_squared_error: 85.2836\n",
      "Epoch 51/70\n",
      "136/136 [==============================] - 0s 2ms/step - loss: 6950.4658 - root_mean_squared_error: 83.3695 - val_loss: 7273.5708 - val_root_mean_squared_error: 85.2852\n",
      "Epoch 52/70\n",
      "136/136 [==============================] - 0s 2ms/step - loss: 6949.7300 - root_mean_squared_error: 83.3650 - val_loss: 7280.3667 - val_root_mean_squared_error: 85.3251\n",
      "Epoch 53/70\n",
      "136/136 [==============================] - 0s 2ms/step - loss: 6950.6763 - root_mean_squared_error: 83.3707 - val_loss: 7273.3574 - val_root_mean_squared_error: 85.2840\n",
      "Epoch 54/70\n",
      "136/136 [==============================] - 0s 2ms/step - loss: 6949.0977 - root_mean_squared_error: 83.3612 - val_loss: 7273.2983 - val_root_mean_squared_error: 85.2836\n",
      "Epoch 55/70\n",
      "136/136 [==============================] - 0s 2ms/step - loss: 6948.2300 - root_mean_squared_error: 83.3560 - val_loss: 7288.2734 - val_root_mean_squared_error: 85.3714\n",
      "Epoch 56/70\n",
      "136/136 [==============================] - 0s 2ms/step - loss: 6951.7046 - root_mean_squared_error: 83.3769 - val_loss: 7273.6353 - val_root_mean_squared_error: 85.2856\n",
      "Epoch 57/70\n",
      "136/136 [==============================] - 0s 2ms/step - loss: 6949.5640 - root_mean_squared_error: 83.3640 - val_loss: 7278.1523 - val_root_mean_squared_error: 85.3121\n",
      "Epoch 58/70\n",
      "136/136 [==============================] - 0s 2ms/step - loss: 6950.9253 - root_mean_squared_error: 83.3722 - val_loss: 7273.3794 - val_root_mean_squared_error: 85.2841\n",
      "Epoch 59/70\n",
      "136/136 [==============================] - 0s 2ms/step - loss: 6950.3252 - root_mean_squared_error: 83.3686 - val_loss: 7273.5938 - val_root_mean_squared_error: 85.2854\n",
      "Epoch 60/70\n",
      "136/136 [==============================] - 0s 2ms/step - loss: 6950.0488 - root_mean_squared_error: 83.3670 - val_loss: 7273.2988 - val_root_mean_squared_error: 85.2836\n",
      "Epoch 61/70\n",
      "136/136 [==============================] - 0s 2ms/step - loss: 6950.6670 - root_mean_squared_error: 83.3707 - val_loss: 7274.8096 - val_root_mean_squared_error: 85.2925\n",
      "Epoch 62/70\n",
      "136/136 [==============================] - 0s 2ms/step - loss: 6949.9453 - root_mean_squared_error: 83.3663 - val_loss: 7274.5977 - val_root_mean_squared_error: 85.2913\n",
      "Epoch 63/70\n",
      "136/136 [==============================] - 0s 2ms/step - loss: 6949.8760 - root_mean_squared_error: 83.3659 - val_loss: 7273.2998 - val_root_mean_squared_error: 85.2836\n",
      "Epoch 64/70\n",
      "136/136 [==============================] - 0s 2ms/step - loss: 6949.8286 - root_mean_squared_error: 83.3656 - val_loss: 7273.4854 - val_root_mean_squared_error: 85.2847\n",
      "Epoch 65/70\n",
      "136/136 [==============================] - 0s 2ms/step - loss: 6947.7607 - root_mean_squared_error: 83.3532 - val_loss: 7273.1387 - val_root_mean_squared_error: 85.2827\n",
      "Epoch 66/70\n",
      "136/136 [==============================] - 0s 2ms/step - loss: 6948.5977 - root_mean_squared_error: 83.3582 - val_loss: 7273.3198 - val_root_mean_squared_error: 85.2838\n",
      "Epoch 67/70\n",
      "136/136 [==============================] - 0s 2ms/step - loss: 6950.5210 - root_mean_squared_error: 83.3698 - val_loss: 7273.8569 - val_root_mean_squared_error: 85.2869\n",
      "Epoch 68/70\n",
      "136/136 [==============================] - 0s 2ms/step - loss: 6949.5537 - root_mean_squared_error: 83.3640 - val_loss: 7275.0801 - val_root_mean_squared_error: 85.2941\n",
      "Epoch 69/70\n",
      "136/136 [==============================] - 0s 2ms/step - loss: 6951.2671 - root_mean_squared_error: 83.3743 - val_loss: 7273.9341 - val_root_mean_squared_error: 85.2874\n",
      "Epoch 70/70\n",
      "136/136 [==============================] - 0s 2ms/step - loss: 6950.1748 - root_mean_squared_error: 83.3677 - val_loss: 7274.2407 - val_root_mean_squared_error: 85.2892\n",
      "74.89501953125\n"
     ]
    },
    {
     "data": {
      "text/plain": "<Figure size 640x480 with 1 Axes>",
      "image/png": "[encoded data removed]"
     },
     "metadata": {},
     "output_type": "display_data"
    }
   ],
   "source": [
    "#@title Double-click to view the complete implementation.\n",
    "\n",
    "# The following variables are the hyperparameters.\n",
    "learning_rate = 0.08\n",
    "epochs = 70\n",
    "batch_size = 100\n",
    "\n",
    "# Split the original training set into a reduced training set and a\n",
    "# validation set. \n",
    "validation_split = 0.2\n",
    "\n",
    "# Identify the feature and the label.\n",
    "my_feature = \"median_income\"    # the median income on a specific city block.\n",
    "my_label = \"median_house_value\" # the median house value on a specific city block.\n",
    "# That is, you're going to create a model that predicts house value based \n",
    "# solely on the neighborhood's median income.  \n",
    "\n",
    "# Shuffle the examples.\n",
    "shuffled_train_df = train_df.reindex(np.random.permutation(train_df.index)) \n",
    "\n",
    "# Invoke the functions to build and train the model. Train on the shuffled\n",
    "# training set.\n",
    "my_model = build_model(learning_rate)\n",
    "epochs, rmse, history = train_model(my_model, shuffled_train_df, my_feature, \n",
    "                                    my_label, epochs, batch_size, \n",
    "                                    validation_split)\n",
    "\n",
    "plot_the_loss_curve(epochs, history[\"root_mean_squared_error\"], \n",
    "                    history[\"val_root_mean_squared_error\"])"
   ],
   "metadata": {
    "collapsed": false,
    "ExecuteTime": {
     "end_time": "2023-08-31T20:14:15.864436Z",
     "start_time": "2023-08-31T20:13:55.811973500Z"
    }
   },
   "id": "143a9be4364ad97b"
  },
  {
   "cell_type": "code",
   "execution_count": 10,
   "outputs": [
    {
     "name": "stdout",
     "output_type": "stream",
     "text": [
      "30/30 [==============================] - 0s 2ms/step - loss: 7012.6245 - root_mean_squared_error: 83.7414\n"
     ]
    }
   ],
   "source": [
    "x_test = test_df[my_feature]\n",
    "y_test = test_df[my_label]\n",
    "\n",
    "results = my_model.evaluate(x_test, y_test, batch_size=batch_size)"
   ],
   "metadata": {
    "collapsed": false,
    "ExecuteTime": {
     "end_time": "2023-08-31T20:17:13.094889Z",
     "start_time": "2023-08-31T20:17:12.966143900Z"
    }
   },
   "id": "1aa78549b51c1cf7"
  }
 ],
 "metadata": {
  "kernelspec": {
   "display_name": "Python 3",
   "language": "python",
   "name": "python3"
  },
  "language_info": {
   "codemirror_mode": {
    "name": "ipython",
    "version": 2
   },
   "file_extension": ".py",
   "mimetype": "text/x-python",
   "name": "python",
   "nbconvert_exporter": "python",
   "pygments_lexer": "ipython2",
   "version": "2.7.6"
  }
 },
 "nbformat": 4,
 "nbformat_minor": 5
}
